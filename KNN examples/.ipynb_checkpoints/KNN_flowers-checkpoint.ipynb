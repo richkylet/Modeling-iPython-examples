{
 "cells": [
  {
   "cell_type": "markdown",
   "metadata": {},
   "source": [
    "## Iris species prediction\n",
    "The problem is comprised of 150 observations of iris flowers from three different species. There are 4 measurements of given flowers: sepal length, sepal width, petal length and petal width, all in the same unit of centimeters. The predicted attribute is the species, which is one of setosa, versicolor or virginica.\n",
    "\n",
    "![title](img/iris.jpg)\n"
   ]
  },
  {
   "cell_type": "markdown",
   "metadata": {},
   "source": [
    "Load packages:"
   ]
  },
  {
   "cell_type": "code",
   "execution_count": 35,
   "metadata": {
    "collapsed": false
   },
   "outputs": [
    {
     "data": {
      "text/html": [
       "<div>\n",
       "<table border=\"1\" class=\"dataframe\">\n",
       "  <thead>\n",
       "    <tr style=\"text-align: right;\">\n",
       "      <th></th>\n",
       "      <th>sep_length</th>\n",
       "      <th>sep_width</th>\n",
       "      <th>ped_length</th>\n",
       "      <th>ped_width</th>\n",
       "      <th>species</th>\n",
       "    </tr>\n",
       "  </thead>\n",
       "  <tbody>\n",
       "    <tr>\n",
       "      <th>0</th>\n",
       "      <td>5.1</td>\n",
       "      <td>3.5</td>\n",
       "      <td>1.4</td>\n",
       "      <td>0.2</td>\n",
       "      <td>Iris-setosa</td>\n",
       "    </tr>\n",
       "    <tr>\n",
       "      <th>1</th>\n",
       "      <td>4.9</td>\n",
       "      <td>3.0</td>\n",
       "      <td>1.4</td>\n",
       "      <td>0.2</td>\n",
       "      <td>Iris-setosa</td>\n",
       "    </tr>\n",
       "    <tr>\n",
       "      <th>2</th>\n",
       "      <td>4.7</td>\n",
       "      <td>3.2</td>\n",
       "      <td>1.3</td>\n",
       "      <td>0.2</td>\n",
       "      <td>Iris-setosa</td>\n",
       "    </tr>\n",
       "    <tr>\n",
       "      <th>3</th>\n",
       "      <td>4.6</td>\n",
       "      <td>3.1</td>\n",
       "      <td>1.5</td>\n",
       "      <td>0.2</td>\n",
       "      <td>Iris-setosa</td>\n",
       "    </tr>\n",
       "    <tr>\n",
       "      <th>4</th>\n",
       "      <td>5.0</td>\n",
       "      <td>3.6</td>\n",
       "      <td>1.4</td>\n",
       "      <td>0.2</td>\n",
       "      <td>Iris-setosa</td>\n",
       "    </tr>\n",
       "  </tbody>\n",
       "</table>\n",
       "</div>"
      ],
      "text/plain": [
       "   sep_length  sep_width  ped_length  ped_width      species\n",
       "0         5.1        3.5         1.4        0.2  Iris-setosa\n",
       "1         4.9        3.0         1.4        0.2  Iris-setosa\n",
       "2         4.7        3.2         1.3        0.2  Iris-setosa\n",
       "3         4.6        3.1         1.5        0.2  Iris-setosa\n",
       "4         5.0        3.6         1.4        0.2  Iris-setosa"
      ]
     },
     "execution_count": 35,
     "metadata": {},
     "output_type": "execute_result"
    }
   ],
   "source": [
    "# pandas\n",
    "import pandas as pd\n",
    "from pandas import Series,DataFrame\n",
    "\n",
    "# numpy, matplotlib, seaborn\n",
    "import numpy as np\n",
    "import matplotlib.pyplot as plt\n",
    "import seaborn as sns\n",
    "sns.set_style('whitegrid')\n",
    "%matplotlib inline"
   ]
  },
  {
   "cell_type": "code",
   "execution_count": null,
   "metadata": {
    "collapsed": true
   },
   "outputs": [],
   "source": [
    "#### Data: Load and preview"
   ]
  },
  {
   "cell_type": "code",
   "execution_count": 32,
   "metadata": {
    "collapsed": false
   },
   "outputs": [
    {
     "data": {
      "text/plain": [
       "5.1       Iris-setosa\n",
       "4.9       Iris-setosa\n",
       "4.7       Iris-setosa\n",
       "4.6       Iris-setosa\n",
       "5.0       Iris-setosa\n",
       "5.4       Iris-setosa\n",
       "4.6       Iris-setosa\n",
       "5.0       Iris-setosa\n",
       "4.4       Iris-setosa\n",
       "4.9       Iris-setosa\n",
       "5.4       Iris-setosa\n",
       "4.8       Iris-setosa\n",
       "4.8       Iris-setosa\n",
       "4.3       Iris-setosa\n",
       "5.8       Iris-setosa\n",
       "5.7       Iris-setosa\n",
       "5.4       Iris-setosa\n",
       "5.1       Iris-setosa\n",
       "5.7       Iris-setosa\n",
       "5.1       Iris-setosa\n",
       "5.4       Iris-setosa\n",
       "5.1       Iris-setosa\n",
       "4.6       Iris-setosa\n",
       "5.1       Iris-setosa\n",
       "4.8       Iris-setosa\n",
       "5.0       Iris-setosa\n",
       "5.0       Iris-setosa\n",
       "5.2       Iris-setosa\n",
       "5.2       Iris-setosa\n",
       "4.7       Iris-setosa\n",
       "            ...      \n",
       "6.9    Iris-virginica\n",
       "5.6    Iris-virginica\n",
       "7.7    Iris-virginica\n",
       "6.3    Iris-virginica\n",
       "6.7    Iris-virginica\n",
       "7.2    Iris-virginica\n",
       "6.2    Iris-virginica\n",
       "6.1    Iris-virginica\n",
       "6.4    Iris-virginica\n",
       "7.2    Iris-virginica\n",
       "7.4    Iris-virginica\n",
       "7.9    Iris-virginica\n",
       "6.4    Iris-virginica\n",
       "6.3    Iris-virginica\n",
       "6.1    Iris-virginica\n",
       "7.7    Iris-virginica\n",
       "6.3    Iris-virginica\n",
       "6.4    Iris-virginica\n",
       "6.0    Iris-virginica\n",
       "6.9    Iris-virginica\n",
       "6.7    Iris-virginica\n",
       "6.9    Iris-virginica\n",
       "5.8    Iris-virginica\n",
       "6.8    Iris-virginica\n",
       "6.7    Iris-virginica\n",
       "6.7    Iris-virginica\n",
       "6.3    Iris-virginica\n",
       "6.5    Iris-virginica\n",
       "6.2    Iris-virginica\n",
       "5.9    Iris-virginica\n",
       "Name: type, dtype: object"
      ]
     },
     "execution_count": 32,
     "metadata": {},
     "output_type": "execute_result"
    }
   ],
   "source": [
    "iris_df = pd.read_csv(\"/Users/KRich/GitHub/data/flowers/flowers.csv\",delimiter=',',\n",
    "                      names=['sep_length','sep_width','ped_length','ped_width','species'])\n",
    "iris_df.head()"
   ]
  },
  {
   "cell_type": "code",
   "execution_count": null,
   "metadata": {
    "collapsed": true
   },
   "outputs": [],
   "source": []
  }
 ],
 "metadata": {
  "kernelspec": {
   "display_name": "Python 3",
   "language": "python",
   "name": "python3"
  },
  "language_info": {
   "codemirror_mode": {
    "name": "ipython",
    "version": 3
   },
   "file_extension": ".py",
   "mimetype": "text/x-python",
   "name": "python",
   "nbconvert_exporter": "python",
   "pygments_lexer": "ipython3",
   "version": "3.5.1"
  }
 },
 "nbformat": 4,
 "nbformat_minor": 0
}
